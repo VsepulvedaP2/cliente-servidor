{
  "nbformat": 4,
  "nbformat_minor": 0,
  "metadata": {
    "colab": {
      "provenance": [],
      "authorship_tag": "ABX9TyPRTVoS0q+ojsI/Cvz4/1Y6",
      "include_colab_link": true
    },
    "kernelspec": {
      "name": "python3",
      "display_name": "Python 3"
    },
    "language_info": {
      "name": "python"
    }
  },
  "cells": [
    {
      "cell_type": "markdown",
      "metadata": {
        "id": "view-in-github",
        "colab_type": "text"
      },
      "source": [
        "<a href=\"https://colab.research.google.com/github/VsepulvedaP2/cliente-servidor/blob/master/Ioters_Lab.ipynb\" target=\"_parent\"><img src=\"https://colab.research.google.com/assets/colab-badge.svg\" alt=\"Open In Colab\"/></a>"
      ]
    },
    {
      "cell_type": "code",
      "execution_count": null,
      "metadata": {
        "colab": {
          "base_uri": "https://localhost:8080/",
          "height": 265
        },
        "id": "o7tPlyh1e0K8",
        "outputId": "b3e3e16d-1ac5-46c9-ae2b-c77a8b6327d0"
      },
      "outputs": [
        {
          "output_type": "display_data",
          "data": {
            "text/plain": [
              "<Figure size 432x288 with 1 Axes>"
            ],
            "image/png": "[encoded data removed]"
          },
          "metadata": {
            "needs_background": "light"
          }
        }
      ],
      "source": [
        "import matplotlib.pyplot as plt\n",
        "\n",
        "# List of points\n",
        "# points = [(1, 2), (1,3), (3, 4), (5,3), (5, 6), (6,1), (7, 8), (9, 10), (6,8)]\n",
        "points = [[1, 2], [1,3], [3, 4], [5,3], [5, 6], [6,1], [7, 8], [8, 5], [4,7]]\n",
        "\n",
        "\n",
        "# Unpack the points and plot them\n",
        "x, y = zip(*points)\n",
        "plt.scatter(x, y)\n",
        "\n",
        "# Show the plot\n",
        "plt.show()\n",
        "\n",
        "# envelope = points #graham_scan(points)\n",
        "# print(envelope)"
      ]
    },
    {
      "cell_type": "code",
      "source": [
        "'''\n",
        "Convex Hull Demo (SVG) for Graham's Scan.\n",
        "Firstly use this code to generate SVG frames.\n",
        "Then transform to bitmaps and convert to GIF.\n",
        "'''\n",
        "\n",
        "# range size\n",
        "N = 300\n",
        "margin = 50\n",
        "\n",
        "def saveToSVG(nFrames, points, firmed, trying):\n",
        "    f = open('demo_'+str(nFrames)+'.svg', 'w')\n",
        "    f.write(\"<svg xmlns=\\\"http://www.w3.org/2000/svg\\\" version=\\\"1.1\\\">\\n\")\n",
        "    for p in points:\n",
        "        f.write(\"<circle cx=\\\"\" +str(p[0]+margin)+ \"\\\" cy=\\\"\"+ str(N-p[1]+margin) +\"\\\" r=\\\"5\\\" fill=\\\"white\\\" stroke=\\\"black\\\"/>\\n\")\n",
        "    for i in range(len(firmed)-1):\n",
        "        f.write(\"<line x1=\\\"\" +str(firmed[i][0]+margin)+ \"\\\" y1=\\\"\"+ str(N-firmed[i][1]+margin) +\"\\\" x2=\\\"\" + str(firmed[i+1][0]+margin) + \"\\\" y2=\\\"\" + str(N-firmed[i+1][1]+margin) + \"\\\" stroke=\\\"red\\\" stroke-width=\\\"5\\\"/>\\n\")\n",
        "    for i in range(len(trying)-1):\n",
        "        f.write(\"<line x1=\\\"\" +str(trying[i][0]+margin)+ \"\\\" y1=\\\"\"+ str(N-trying[i][1]+margin) +\"\\\" x2=\\\"\" + str(trying[i+1][0]+margin) + \"\\\" y2=\\\"\" + str(N-trying[i+1][1]+margin) + \"\\\" stroke=\\\"blue\\\" stroke-width=\\\"5\\\"/>\\n\")\n",
        "    f.write(\"</svg>\\n\")\n",
        "    f.close()\n",
        "\n",
        "def generatePoints(n):\n",
        "    import random as r\n",
        "    r.seed(100)\n",
        "    \n",
        "    res = []\n",
        "    for i in range(n):\n",
        "        pt = [r.randint(0,N) for _ in [0, 1]]\n",
        "        if [pt] not in res:\n",
        "            res += [pt]\n",
        "    return res\n",
        "\n",
        "def norm(x, y):\n",
        "    return (x*x+y*y)**.5\n",
        "\n",
        "def dotProductNormed(x1, y1, x2, y2):\n",
        "    return (x1*x2+y1*y2)/norm(x1, y1)/norm(x2, y2)\n",
        "\n",
        "def cross(x1, y1, x2, y2):\n",
        "    return x1*y2 - x2*y1\n",
        "\n",
        "def graham(n, points):\n",
        "    if n<3: return\n",
        "    nframe = 0;\n",
        "    points.sort(key = lambda x: x[1])\n",
        "    first = points[0]\n",
        "    rest = points[1:]\n",
        "    rest.sort(key = lambda x: -dotProductNormed(x[0]-points[0][0], x[1]-points[0][1], 1, 0))\n",
        "    points = [first] + rest\n",
        "    stack = [points[0], points[1]]\n",
        "    saveToSVG(nframe, points, stack, [stack[-1], points[2]])\n",
        "    nframe += 1\n",
        "    i=2\n",
        "    while i<n:\n",
        "        x0, y0 = stack[-2][0], stack[-2][1]\n",
        "        x1, y1 = stack[-1][0], stack[-1][1]\n",
        "        x2, y2 = points[i][0], points[i][1]\n",
        "        if cross(x1-x0, y1-y0, x2-x0, y2-y0)<0:\n",
        "            stack.pop()\n",
        "        else:\n",
        "            stack += [points[i]]\n",
        "            i+=1\n",
        "        if i<n:\n",
        "            saveToSVG(nframe, points, stack, [stack[-1], points[i]])\n",
        "        else:\n",
        "            saveToSVG(nframe, points, stack+[points[0]], [])\n",
        "        nframe += 1\n",
        "    return stack\n",
        "\n",
        "# test 30 points temporarily\n",
        "n = 9\n",
        "# pts = generatePoints(n)\n",
        "\n",
        "\n",
        "pts = [[1, 2], [1,3], [3, 4], [5,3], [5, 6], [6,1], [7, 8], [8, 5], [4,7]]\n",
        "\n",
        "graham(n, pts)"
      ],
      "metadata": {
        "colab": {
          "base_uri": "https://localhost:8080/"
        },
        "id": "H2SoGqfzFl9H",
        "outputId": "c2cfeb34-6987-41e0-9c75-150296670a69"
      },
      "execution_count": null,
      "outputs": [
        {
          "output_type": "execute_result",
          "data": {
            "text/plain": [
              "[[6, 1], [8, 5], [7, 8], [4, 7], [1, 3], [1, 2]]"
            ]
          },
          "metadata": {},
          "execution_count": 14
        }
      ]
    },
    {
      "cell_type": "code",
      "source": [
        "import matplotlib.pyplot as plt\n",
        "\n",
        "points = [[1, 2], [1,3], [3, 4], [5,3], [5, 6], [6,1], [7, 8], [8, 5], [4,7]]\n",
        "\n",
        "\n",
        "# Unpack the points and plot them\n",
        "x, y = zip(*points)\n",
        "plt.scatter(x, y)\n",
        "\n",
        "# Show the plot\n",
        "plt.show()\n",
        "\n",
        "\n",
        "\n",
        "\n",
        "# Imprime la Envolvente Convexa\n",
        "# Antes de imprimir las coordenadas agrega al final la primera coordenada\n",
        "# para que gráficamente se cierre el perímetro y para que al calcular\n",
        "# el área del polígono Irregular cumpla con los requisitos del algoritmo\n",
        "# aunque no es necesario ya que la función área lo hace si no se agrega antes\n",
        "\n",
        "points = [[6, 1], [8, 5], [7, 8], [4, 7], [1, 3], [1, 2], [6, 1]]\n",
        "\n",
        "\n",
        "# Plot the points\n",
        "x, y = zip(*points)\n",
        "plt.plot(x, y, 'bo-')\n",
        "\n",
        "# Show the plot\n",
        "plt.show()\n",
        "\n",
        "\n",
        "# Calcula el área de un Polígono Irregular\n",
        "# Condición es Polígono Irregular cerrado y eje no se intersectan entre si\n",
        "\n",
        "from shapely.geometry import Polygon\n",
        "\n",
        "# Create a polygon object\n",
        "polygon = Polygon(points)\n",
        "\n",
        "# Calculate the area of the polygon\n",
        "area = polygon.area\n",
        "\n",
        "print()\n",
        "print(\"El Área del Polígono es:\", area)"
      ],
      "metadata": {
        "colab": {
          "base_uri": "https://localhost:8080/",
          "height": 548
        },
        "id": "cKwXIFiIJ8OY",
        "outputId": "ff03be02-7795-4e48-d475-f4aad88674fe"
      },
      "execution_count": null,
      "outputs": [
        {
          "output_type": "display_data",
          "data": {
            "text/plain": [
              "<Figure size 432x288 with 1 Axes>"
            ],
            "image/png": "[encoded data removed]"
          },
          "metadata": {
            "needs_background": "light"
          }
        },
        {
          "output_type": "display_data",
          "data": {
            "text/plain": [
              "<Figure size 432x288 with 1 Axes>"
            ],
            "image/png": "[encoded data removed]"
          },
          "metadata": {
            "needs_background": "light"
          }
        },
        {
          "output_type": "stream",
          "name": "stdout",
          "text": [
            "\n",
            "El Área del Polígono es: 30.5\n"
          ]
        }
      ]
    }
  ]
}